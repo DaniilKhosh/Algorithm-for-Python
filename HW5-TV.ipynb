{
 "cells": [
  {
   "cell_type": "code",
   "execution_count": null,
   "metadata": {},
   "outputs": [],
   "source": []
  },
  {
   "cell_type": "markdown",
   "metadata": {},
   "source": [
    "Задача 1"
   ]
  },
  {
   "cell_type": "markdown",
   "metadata": {},
   "source": [
    "Утверждается, что шарики для подшипников, изготовленные автоматическим станком, имеют средний диаметр 17 мм. Используя уровень значимости 0.025 и правостороннюю критическую область, проверить данную гипотезу при условии, что в выборке из 100 шариков средний диаметр оказался равным 17.5 мм, а дисперсия известна и равна 4 мм."
   ]
  },
  {
   "cell_type": "code",
   "execution_count": 7,
   "metadata": {},
   "outputs": [],
   "source": [
    "import numpy as np\n",
    "from scipy import stats"
   ]
  },
  {
   "cell_type": "code",
   "execution_count": 4,
   "metadata": {},
   "outputs": [],
   "source": [
    "d = 17  # нулевая гипотеза\n",
    "d_middle = 17.5  # средний радиус в выборке\n",
    "a = 0.025  # уровень значимости\n",
    "n = 100 \n",
    "disp = 4  # дисперсия\n",
    "T = (d_middle-d) / np.sqrt(disp/n)  "
   ]
  },
  {
   "cell_type": "code",
   "execution_count": 6,
   "metadata": {},
   "outputs": [
    {
     "name": "stdout",
     "output_type": "stream",
     "text": [
      "Значение статистики: 2.5\n"
     ]
    }
   ],
   "source": [
    "print('Значение статистики:', T) "
   ]
  },
  {
   "cell_type": "markdown",
   "metadata": {},
   "source": [
    "Квантиль для правосторонней области: $\\Omega_\\alpha = (t_{1 - \\alpha}, \\infty)$ считается по формуле:"
   ]
  },
  {
   "cell_type": "code",
   "execution_count": 38,
   "metadata": {},
   "outputs": [
    {
     "name": "stdout",
     "output_type": "stream",
     "text": [
      "t= 1.959963984540054\n"
     ]
    }
   ],
   "source": [
    "t = stats.norm.ppf(1-0.025)\n",
    "print('t=',t)"
   ]
  },
  {
   "cell_type": "markdown",
   "metadata": {},
   "source": [
    "Так как значение статистики превышает $\\Omega_\\alpha = (t_{1 - \\alpha}, \\infty)$, то нулевую гипотезу отвергаем"
   ]
  },
  {
   "cell_type": "markdown",
   "metadata": {},
   "source": [
    "### Задача 2\n",
    "Известно, что генеральная совокупность распределена нормально с известным средним квадратическим отклонением 16. Найти доверительный интервал для оценки математического ожидания a с надёжностью 0.95, если выборочное среднее равно 80, а объём равен 256."
   ]
  },
  {
   "cell_type": "code",
   "execution_count": 39,
   "metadata": {},
   "outputs": [
    {
     "name": "stdout",
     "output_type": "stream",
     "text": [
      "Доверительный интервал:  78.0 82.0\n"
     ]
    }
   ],
   "source": [
    "s = 16\n",
    "p = 0.95\n",
    "n_m = 80 \n",
    "n = 256\n",
    "t = 2  # правило двух сигм\n",
    "\n",
    "print('Доверительный интервал: ', n_m-t*s/np.sqrt(n), n_m+t*s/np.sqrt(n) )"
   ]
  },
  {
   "cell_type": "markdown",
   "metadata": {},
   "source": [
    "### Задача 3\n",
    "\n",
    "Продавец утверждает, что средний вес пачки печенья составляет 200 г. Из партии извлечена выборка из 10 пачек. Вес каждой пачки составляет:\n",
    "\n",
    "202, 203, 199, 197, 195, 201, 200, 204, 194, 190\n",
    "\n",
    "Известно, что их веса распределены нормально. Верно ли утверждение продавца, если учитывать, что уровень значимости равен 1%?"
   ]
  },
  {
   "cell_type": "code",
   "execution_count": 40,
   "metadata": {},
   "outputs": [
    {
     "name": "stdout",
     "output_type": "stream",
     "text": [
      "198.5\n",
      "4.453463071962462\n",
      "t 3.2498355440153697\n",
      "T -1.0651074037450896\n",
      "Утверждение продавца верно\n"
     ]
    }
   ],
   "source": [
    "samples = np.array([202, 203, 199, 197, 195, 201, 200, 204, 194, 190])\n",
    "alpha = 0.01\n",
    "a = 200\n",
    "n=10\n",
    "\n",
    "a_mean = samples.mean() \n",
    "print(a_mean)\n",
    "std = samples.std(ddof=1)  \n",
    "print(std)\n",
    "t = stats.t.ppf(1-alpha/2, df=n-1)  \n",
    "print('t',t)\n",
    "T = (a_mean - a) / (std/np.sqrt(n))  \n",
    "print('T',T)\n",
    "if (-t < T < t):\n",
    "    print('Утверждение продавца верно')\n",
    "else:\n",
    "    print('Утверждение продавца не верно')\n"
   ]
  },
  {
   "cell_type": "code",
   "execution_count": null,
   "metadata": {},
   "outputs": [],
   "source": []
  }
 ],
 "metadata": {
  "kernelspec": {
   "display_name": "Python 3",
   "language": "python",
   "name": "python3"
  },
  "language_info": {
   "codemirror_mode": {
    "name": "ipython",
    "version": 3
   },
   "file_extension": ".py",
   "mimetype": "text/x-python",
   "name": "python",
   "nbconvert_exporter": "python",
   "pygments_lexer": "ipython3",
   "version": "3.7.3"
  }
 },
 "nbformat": 4,
 "nbformat_minor": 2
}
