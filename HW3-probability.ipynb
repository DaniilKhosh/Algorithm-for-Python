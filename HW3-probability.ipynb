{
 "cells": [
  {
   "cell_type": "markdown",
   "metadata": {},
   "source": [
    "### Задача 1\n",
    "\n",
    "Даны значения зарплат из выборки выпускников: \n",
    "\n",
    "100, 80, 75, 77, 89, 33, 45, 25, 65, 17, 30, 230, 24, 57, 55, 70, 75, 65, 84, 90, 150\n",
    "\n",
    "Своими руками (т.е. без использования статистических функций вроде mean, std, var) посчитать среднее арифметическое, смещённую и несмещённую оценки дисперсии, среднее квадратичное отклонение для данной выборки."
   ]
  },
  {
   "cell_type": "code",
   "execution_count": 22,
   "metadata": {},
   "outputs": [],
   "source": [
    "import numpy as np"
   ]
  },
  {
   "cell_type": "code",
   "execution_count": 23,
   "metadata": {},
   "outputs": [
    {
     "name": "stdout",
     "output_type": "stream",
     "text": [
      "cреднее значение= 73.14285714285714\n",
      "Смещенная дисперсия = 2135.074829931973\n",
      "Несмещенная дисперсия= 2241.8285714285716\n",
      "Среднее квадратичное отклонение= 46.20686994302874\n"
     ]
    }
   ],
   "source": [
    "a=np.array([100, 80, 75, 77, 89, 33, 45, 25, 65, 17, 30, 230, 24, 57, 55, 70, 75, 65, 84, 90, 150])\n",
    "middle = 0\n",
    "for i in range(len(a)):\n",
    "    middle+=a[i]\n",
    "print('cреднее значение=', middle/len(a))\n",
    "\n",
    "sum = 0\n",
    "for j in range(len(a)):\n",
    "    sum+=(a[j]-middle/len(a))**2\n",
    "sd = sum/len(a)  \n",
    "nsd = sum/(len(a)-1)\n",
    "sko = np.sqrt(sd)\n",
    "print('Смещенная дисперсия =',sd)\n",
    "print('Несмещенная дисперсия=', nsd)\n",
    "print('Среднее квадратичное отклонение=', sko)\n",
    "\n"
   ]
  },
  {
   "cell_type": "markdown",
   "metadata": {},
   "source": [
    "### Задача 2\n",
    "\n",
    "Для выборки из задачи 1 найти (также без использования статистических функций) медиану, первый и третий квартили, интерквартильное расстояние. Найти выборсы в выборке, используя для этого \"усы\" из boxplot.\n",
    "\n",
    "В этой задаче неоднозначности в вычислении квантилей можно разрешать любым способом.\n"
   ]
  },
  {
   "cell_type": "code",
   "execution_count": 34,
   "metadata": {},
   "outputs": [],
   "source": [
    "s = np.sort(a)"
   ]
  },
  {
   "cell_type": "code",
   "execution_count": 35,
   "metadata": {},
   "outputs": [
    {
     "name": "stdout",
     "output_type": "stream",
     "text": [
      "[ 17  24  25  30  33  45  55  57  65  65  70  75  75  77  80  84  89  90\n",
      " 100 150 230]\n"
     ]
    }
   ],
   "source": [
    "print(s)"
   ]
  },
  {
   "cell_type": "code",
   "execution_count": 40,
   "metadata": {},
   "outputs": [
    {
     "name": "stdout",
     "output_type": "stream",
     "text": [
      "Медиана: 70\n",
      "Первый квартиль: 45\n",
      "Третий квартиль: 84\n",
      "Интерквартильный размах: 39\n"
     ]
    }
   ],
   "source": [
    "med = s[s.size//2]\n",
    "qvart1 = s[s.size//4]\n",
    "qvart2 = s[s.size*3//4]\n",
    "r = qvart2-qvart1\n",
    "print(\"Медиана:\", med)\n",
    "print(\"Первый квартиль:\", qvart1)\n",
    "print(\"Третий квартиль:\", qvart2)\n",
    "print(\"Интерквартильный размах:\", r)"
   ]
  },
  {
   "cell_type": "code",
   "execution_count": 41,
   "metadata": {},
   "outputs": [
    {
     "name": "stdout",
     "output_type": "stream",
     "text": [
      "Усы: (-13.5, 142.5)\n"
     ]
    }
   ],
   "source": [
    "dist = (qvart1 - 1.5 * r, qvart2 + 1.5 * r)\n",
    "print(\"Усы:\", dist)"
   ]
  },
  {
   "cell_type": "code",
   "execution_count": 42,
   "metadata": {},
   "outputs": [
    {
     "name": "stdout",
     "output_type": "stream",
     "text": [
      "Выбросы от 1 квартиля: []\n",
      "Выбросы от 3 квартиля: [150 230]\n"
     ]
    }
   ],
   "source": [
    "print(\"Выбросы от 1 квартиля:\", s[s < dist[0]])\n",
    "print(\"Выбросы от 3 квартиля:\", s[s > dist[1]])"
   ]
  },
  {
   "cell_type": "markdown",
   "metadata": {},
   "source": [
    "### Задача 3\n",
    "\n",
    "В университет на факультеты A и B поступило равное количество студентов, а на факультет C студентов поступило столько же, сколько на A и B вместе. Вероятность того, что студент факультета A сдаст первую сессию, равна 0.8. Для студента факультета B эта вероятность равна 0.7, а для студента факультета C - 0.9. Студент сдал первую сессию. Какова вероятность, что он учится: a) на факультете A? б) на факультете B? в) на факультете C?"
   ]
  },
  {
   "cell_type": "markdown",
   "metadata": {},
   "source": [
    "X1 - вероятность того, что студент факультета A;\n",
    "X2 - вероятность того, что студент факультета B;\n",
    "X3 - вероятность того, что студент факультета С;\n",
    "A - студент сдал первую сессию"
   ]
  },
  {
   "cell_type": "markdown",
   "metadata": {},
   "source": [
    "P(X1/A)- вероятность того, что студент на ф-те А и сдал первую сессию\n",
    "P(X2/A)- вероятность того, что студент на ф-те B и сдал первую сессию\n",
    "P(X3/A)- вероятность того, что студент на ф-те C и сдал первую сессию\n",
    "P(X1) = 1/4 \n",
    "P(X2) = 1/4 \n",
    "P(X3) = 1/4 "
   ]
  },
  {
   "cell_type": "code",
   "execution_count": null,
   "metadata": {},
   "outputs": [],
   "source": [
    "P(A/X1) = 0.8\n",
    "P(A/X2) = 0.7\n",
    "P(A/X3) = 0.9"
   ]
  },
  {
   "cell_type": "markdown",
   "metadata": {},
   "source": [
    "P(A) = P(A/X1) * P(X1) + P(A/X2) * P(X2) + P(A/X3) * P(X3)"
   ]
  },
  {
   "cell_type": "code",
   "execution_count": null,
   "metadata": {},
   "outputs": [],
   "source": [
    "P(A) = 0.8/4 + 0.7/4 + 0.9/2 = 0.825"
   ]
  },
  {
   "cell_type": "markdown",
   "metadata": {},
   "source": [
    "По ф-ле Байеса \n",
    "P(X1/A) = P(A/X1)*P(X1) / P(A)\n",
    "P(X2/A) = P(A/X2)*P(X2) / P(A)\n",
    "P(X3/A) = P(A/X3)*P(X3) / P(A)"
   ]
  },
  {
   "cell_type": "markdown",
   "metadata": {},
   "source": [
    "Ответ:"
   ]
  },
  {
   "cell_type": "markdown",
   "metadata": {},
   "source": [
    "P(X1/A) = 0.8 * 0.25 / 0.825 = 0,24(24)\n",
    "P(X2/A) = 0.7 * 0.25 / 0.825 = 0,21(21)\n",
    "P(X3/A) = 0.9 * 0.5 / 0.825 = 0,54(54)"
   ]
  },
  {
   "cell_type": "code",
   "execution_count": null,
   "metadata": {},
   "outputs": [],
   "source": []
  }
 ],
 "metadata": {
  "kernelspec": {
   "display_name": "Python 3",
   "language": "python",
   "name": "python3"
  },
  "language_info": {
   "codemirror_mode": {
    "name": "ipython",
    "version": 3
   },
   "file_extension": ".py",
   "mimetype": "text/x-python",
   "name": "python",
   "nbconvert_exporter": "python",
   "pygments_lexer": "ipython3",
   "version": "3.7.3"
  }
 },
 "nbformat": 4,
 "nbformat_minor": 2
}
